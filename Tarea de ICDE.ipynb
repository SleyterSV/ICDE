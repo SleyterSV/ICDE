{
 "cells": [
  {
   "cell_type": "markdown",
   "metadata": {
    "id": "_em5Btsrj3iE"
   },
   "source": [
    "<center><img src=\"https://i.imgur.com/zRrFdsf.png\" width=\"700\"></center>"
   ]
  },
  {
   "cell_type": "markdown",
   "metadata": {
    "id": "O2f27oVNj3iM"
   },
   "source": [
    "## Exercises:"
   ]
  },
  {
   "cell_type": "markdown",
   "metadata": {
    "id": "qa-8nTVVj3iM"
   },
   "source": [
    "The CIA has several indicators for world countries:\n",
    "\n",
    "- See [here](https://www.cia.gov/the-world-factbook/references/guide-to-country-comparisons).\n",
    "\n",
    "Review the topics related to cleaning discussed in class, and see what may be need to clean this indicator from the CIA:\n",
    "\n",
    "- [Carbon dioxide emissions](https://www.cia.gov/the-world-factbook/field/carbon-dioxide-emissions/country-comparison)."
   ]
  },
  {
   "cell_type": "markdown",
   "metadata": {
    "id": "mgdN9ZK_j3iN"
   },
   "source": [
    "You  need to make sure you have installed:\n",
    "\n",
    "* pandas\n",
    "* html5lib\n",
    "* lxml\n",
    "* beautifulsoup4 (or bs4)\n",
    "\n",
    "You can use **pip show** to verify (for instance, _pip show pandas_). If you have all of them, run this code to get the data:"
   ]
  },
  {
   "cell_type": "code",
   "execution_count": 2,
   "metadata": {
    "id": "u6xLc_dHIJGu"
   },
   "outputs": [],
   "source": [
    "# read web table into pandas DF\n",
    "import pandas as pd\n",
    "\n",
    "ciaLink1='https://www.cia.gov/the-world-factbook/field/carbon-dioxide-emissions/country-comparison'\n",
    "carbon=pd.read_html(ciaLink1, # link\n",
    "                        header=0, # where is the header?\n",
    "                        flavor='bs4')[0] # and which table?\n"
   ]
  },
  {
   "cell_type": "code",
   "execution_count": 19,
   "metadata": {
    "colab": {
     "base_uri": "https://localhost:8080/",
     "height": 429
    },
    "id": "dAmQQMGvj3iN",
    "outputId": "b3f730fa-0f87-4358-ea58-5b40da553b05"
   },
   "outputs": [
    {
     "data": {
      "text/html": [
       "<div>\n",
       "<style scoped>\n",
       "    .dataframe tbody tr th:only-of-type {\n",
       "        vertical-align: middle;\n",
       "    }\n",
       "\n",
       "    .dataframe tbody tr th {\n",
       "        vertical-align: top;\n",
       "    }\n",
       "\n",
       "    .dataframe thead th {\n",
       "        text-align: right;\n",
       "    }\n",
       "</style>\n",
       "<table border=\"1\" class=\"dataframe\">\n",
       "  <thead>\n",
       "    <tr style=\"text-align: right;\">\n",
       "      <th></th>\n",
       "      <th>Rank</th>\n",
       "      <th>Country</th>\n",
       "      <th>metric tonnes of CO2</th>\n",
       "      <th>Date of Information</th>\n",
       "    </tr>\n",
       "  </thead>\n",
       "  <tbody>\n",
       "    <tr>\n",
       "      <th>0</th>\n",
       "      <td>1</td>\n",
       "      <td>China</td>\n",
       "      <td>13506000000</td>\n",
       "      <td>2022 est.</td>\n",
       "    </tr>\n",
       "    <tr>\n",
       "      <th>1</th>\n",
       "      <td>2</td>\n",
       "      <td>United States</td>\n",
       "      <td>4941000000</td>\n",
       "      <td>2022 est.</td>\n",
       "    </tr>\n",
       "    <tr>\n",
       "      <th>2</th>\n",
       "      <td>3</td>\n",
       "      <td>India</td>\n",
       "      <td>2805000000</td>\n",
       "      <td>2022 est.</td>\n",
       "    </tr>\n",
       "    <tr>\n",
       "      <th>3</th>\n",
       "      <td>4</td>\n",
       "      <td>Russia</td>\n",
       "      <td>1840000000</td>\n",
       "      <td>2022 est.</td>\n",
       "    </tr>\n",
       "    <tr>\n",
       "      <th>4</th>\n",
       "      <td>5</td>\n",
       "      <td>Japan</td>\n",
       "      <td>1049000000</td>\n",
       "      <td>2022 est.</td>\n",
       "    </tr>\n",
       "    <tr>\n",
       "      <th>...</th>\n",
       "      <td>...</td>\n",
       "      <td>...</td>\n",
       "      <td>...</td>\n",
       "      <td>...</td>\n",
       "    </tr>\n",
       "    <tr>\n",
       "      <th>213</th>\n",
       "      <td>214</td>\n",
       "      <td>Montserrat</td>\n",
       "      <td>26000</td>\n",
       "      <td>2022 est.</td>\n",
       "    </tr>\n",
       "    <tr>\n",
       "      <th>214</th>\n",
       "      <td>215</td>\n",
       "      <td>Saint Helena, Ascension, and Tristan da Cunha</td>\n",
       "      <td>13000</td>\n",
       "      <td>2022 est.</td>\n",
       "    </tr>\n",
       "    <tr>\n",
       "      <th>215</th>\n",
       "      <td>216</td>\n",
       "      <td>Antarctica</td>\n",
       "      <td>12000</td>\n",
       "      <td>2022 est.</td>\n",
       "    </tr>\n",
       "    <tr>\n",
       "      <th>216</th>\n",
       "      <td>217</td>\n",
       "      <td>Niue</td>\n",
       "      <td>8000</td>\n",
       "      <td>2022 est.</td>\n",
       "    </tr>\n",
       "    <tr>\n",
       "      <th>217</th>\n",
       "      <td>218</td>\n",
       "      <td>Northern Mariana Islands</td>\n",
       "      <td>0</td>\n",
       "      <td>2019 est.</td>\n",
       "    </tr>\n",
       "  </tbody>\n",
       "</table>\n",
       "<p>218 rows × 4 columns</p>\n",
       "</div>"
      ],
      "text/plain": [
       "     Rank                                        Country  \\\n",
       "0       1                                          China   \n",
       "1       2                                  United States   \n",
       "2       3                                          India   \n",
       "3       4                                         Russia   \n",
       "4       5                                          Japan   \n",
       "..    ...                                            ...   \n",
       "213   214                                     Montserrat   \n",
       "214   215  Saint Helena, Ascension, and Tristan da Cunha   \n",
       "215   216                                     Antarctica   \n",
       "216   217                                           Niue   \n",
       "217   218                       Northern Mariana Islands   \n",
       "\n",
       "     metric tonnes of CO2 Date of Information  \n",
       "0             13506000000           2022 est.  \n",
       "1              4941000000           2022 est.  \n",
       "2              2805000000           2022 est.  \n",
       "3              1840000000           2022 est.  \n",
       "4              1049000000           2022 est.  \n",
       "..                    ...                 ...  \n",
       "213                 26000           2022 est.  \n",
       "214                 13000           2022 est.  \n",
       "215                 12000           2022 est.  \n",
       "216                  8000           2022 est.  \n",
       "217                     0           2019 est.  \n",
       "\n",
       "[218 rows x 4 columns]"
      ]
     },
     "execution_count": 19,
     "metadata": {},
     "output_type": "execute_result"
    }
   ],
   "source": [
    "# here it is:\n",
    "carbon"
   ]
  },
  {
   "cell_type": "code",
   "execution_count": 21,
   "metadata": {
    "colab": {
     "base_uri": "https://localhost:8080/"
    },
    "id": "0TTJk1odj3iN",
    "outputId": "e335f7e8-2b08-4955-8cf3-913e67d4290b"
   },
   "outputs": [
    {
     "name": "stdout",
     "output_type": "stream",
     "text": [
      "<class 'pandas.core.frame.DataFrame'>\n",
      "RangeIndex: 218 entries, 0 to 217\n",
      "Data columns (total 4 columns):\n",
      " #   Column                Non-Null Count  Dtype \n",
      "---  ------                --------------  ----- \n",
      " 0   Rank                  218 non-null    int64 \n",
      " 1   Country               218 non-null    object\n",
      " 2   metric tonnes of CO2  218 non-null    int64 \n",
      " 3   Date of Information   218 non-null    object\n",
      "dtypes: int64(2), object(2)\n",
      "memory usage: 6.9+ KB\n"
     ]
    }
   ],
   "source": [
    "# also\n",
    "carbon.info()"
   ]
  },
  {
   "cell_type": "code",
   "execution_count": null,
   "metadata": {
    "colab": {
     "base_uri": "https://localhost:8080/",
     "height": 241
    },
    "id": "WVLGhvkYj3iO",
    "outputId": "bfc4f7d9-af72-4ff3-b613-4f7ea1092be3"
   },
   "outputs": [
    {
     "data": {
      "text/html": [
       "<div>\n",
       "<style scoped>\n",
       "    .dataframe tbody tr th:only-of-type {\n",
       "        vertical-align: middle;\n",
       "    }\n",
       "\n",
       "    .dataframe tbody tr th {\n",
       "        vertical-align: top;\n",
       "    }\n",
       "\n",
       "    .dataframe thead th {\n",
       "        text-align: right;\n",
       "    }\n",
       "</style>\n",
       "<table border=\"1\" class=\"dataframe\">\n",
       "  <thead>\n",
       "    <tr style=\"text-align: right;\">\n",
       "      <th></th>\n",
       "      <th>count</th>\n",
       "    </tr>\n",
       "    <tr>\n",
       "      <th>Date of Information</th>\n",
       "      <th></th>\n",
       "    </tr>\n",
       "  </thead>\n",
       "  <tbody>\n",
       "    <tr>\n",
       "      <th>2022 est.</th>\n",
       "      <td>215</td>\n",
       "    </tr>\n",
       "    <tr>\n",
       "      <th>2012 est.</th>\n",
       "      <td>1</td>\n",
       "    </tr>\n",
       "    <tr>\n",
       "      <th>2017 est.</th>\n",
       "      <td>1</td>\n",
       "    </tr>\n",
       "    <tr>\n",
       "      <th>2019 est.</th>\n",
       "      <td>1</td>\n",
       "    </tr>\n",
       "  </tbody>\n",
       "</table>\n",
       "</div><br><label><b>dtype:</b> int64</label>"
      ],
      "text/plain": [
       "Date of Information\n",
       "2022 est.    215\n",
       "2012 est.      1\n",
       "2017 est.      1\n",
       "2019 est.      1\n",
       "Name: count, dtype: int64"
      ]
     },
     "execution_count": 4,
     "metadata": {},
     "output_type": "execute_result"
    }
   ],
   "source": [
    "# frequency table\n",
    "carbon['Date of Information'].value_counts()"
   ]
  },
  {
   "cell_type": "markdown",
   "metadata": {
    "id": "UIw8d0ozj3iO"
   },
   "source": [
    "Complete the tasks requested:\n",
    "\n",
    "1. Keep all the columns but _Rank_.\n",
    "    * Tip: use [drop](https://pandas.pydata.org/docs/reference/api/pandas.DataFrame.drop.html), [loc](https://pandas.pydata.org/docs/reference/api/pandas.DataFrame.loc.html), and [iloc](https://pandas.pydata.org/docs/reference/api/pandas.DataFrame.iloc.html) for the same purpose (three ways to accomplish the task).\n",
    "2. Rename the column names for easier understanding.\n",
    "    * Tip: Use [rename](https://pandas.pydata.org/docs/reference/api/pandas.DataFrame.rename.html).\n",
    "3. Make sure the cells with text does not have neither trailing nor leading spaces.\n",
    "    * Tip: use [strip](https://pandas.pydata.org/docs/reference/api/pandas.Series.str.strip.html).\n",
    "4. Detect the presence of symbols in the numeric data that are not numeric or point.\n",
    "    * Tip: Use [contains](https://pandas.pydata.org/docs/reference/api/pandas.Series.str.contains.html).\n",
    "5. Make sure there are no spaces as part of the column names.\n",
    "    * Tip: use [replace](https://pandas.pydata.org/docs/reference/api/pandas.Series.replace.html).\n",
    "6. Keep only the year value in the column *carbon_date*.\n",
    "    * Tip: use [extract](https://pandas.pydata.org/docs/reference/api/pandas.Series.str.extract.html).\n",
    "\n",
    "When all tasks are done, create a folder **data** inside the current folder, and save the cleaned file like this:\n"
   ]
  },
  {
   "cell_type": "code",
   "execution_count": 109,
   "metadata": {},
   "outputs": [
    {
     "name": "stdout",
     "output_type": "stream",
     "text": [
      "                                           Country  metric tonnes of CO2  \\\n",
      "0                                            China           13506000000   \n",
      "1                                    United States            4941000000   \n",
      "2                                            India            2805000000   \n",
      "3                                           Russia            1840000000   \n",
      "4                                            Japan            1049000000   \n",
      "..                                             ...                   ...   \n",
      "213                                     Montserrat                 26000   \n",
      "214  Saint Helena, Ascension, and Tristan da Cunha                 13000   \n",
      "215                                     Antarctica                 12000   \n",
      "216                                           Niue                  8000   \n",
      "217                       Northern Mariana Islands                     0   \n",
      "\n",
      "    Date of Information  \n",
      "0             2022 est.  \n",
      "1             2022 est.  \n",
      "2             2022 est.  \n",
      "3             2022 est.  \n",
      "4             2022 est.  \n",
      "..                  ...  \n",
      "213           2022 est.  \n",
      "214           2022 est.  \n",
      "215           2022 est.  \n",
      "216           2022 est.  \n",
      "217           2019 est.  \n",
      "\n",
      "[218 rows x 3 columns]\n"
     ]
    }
   ],
   "source": [
    "# Definimos las columnas que queremos conservar\n",
    "keep_columns = ['Country', 'metric tonnes of CO2', 'Date of Information']\n",
    "\n",
    "# Identificamos las columnas que no queremos conservar\n",
    "columns = set(carbon.columns.to_list()) - set(keep_columns)\n",
    "\n",
    "# Usamos drop para eliminar las columnas no deseadas\n",
    "carbonCleaned = carbon.drop(columns=columns)\n",
    "print(carbonCleaned)"
   ]
  },
  {
   "cell_type": "code",
   "execution_count": 101,
   "metadata": {},
   "outputs": [
    {
     "name": "stdout",
     "output_type": "stream",
     "text": [
      "                                           Country  metric tonnes of CO2  \\\n",
      "0                                            China           13506000000   \n",
      "1                                    United States            4941000000   \n",
      "2                                            India            2805000000   \n",
      "3                                           Russia            1840000000   \n",
      "4                                            Japan            1049000000   \n",
      "..                                             ...                   ...   \n",
      "213                                     Montserrat                 26000   \n",
      "214  Saint Helena, Ascension, and Tristan da Cunha                 13000   \n",
      "215                                     Antarctica                 12000   \n",
      "216                                           Niue                  8000   \n",
      "217                       Northern Mariana Islands                     0   \n",
      "\n",
      "    Date of Information  \n",
      "0             2022 est.  \n",
      "1             2022 est.  \n",
      "2             2022 est.  \n",
      "3             2022 est.  \n",
      "4             2022 est.  \n",
      "..                  ...  \n",
      "213           2022 est.  \n",
      "214           2022 est.  \n",
      "215           2022 est.  \n",
      "216           2022 est.  \n",
      "217           2019 est.  \n",
      "\n",
      "[218 rows x 3 columns]\n"
     ]
    }
   ],
   "source": [
    "# Usamos loc para seleccionar las columnas que queremos conservar\n",
    "carbonCleaned_loc = carbon.loc[:, keep_columns]\n",
    "print(carbonCleaned_loc)"
   ]
  },
  {
   "cell_type": "code",
   "execution_count": 103,
   "metadata": {},
   "outputs": [
    {
     "name": "stdout",
     "output_type": "stream",
     "text": [
      "                                           Country  metric tonnes of CO2  \\\n",
      "0                                            China           13506000000   \n",
      "1                                    United States            4941000000   \n",
      "2                                            India            2805000000   \n",
      "3                                           Russia            1840000000   \n",
      "4                                            Japan            1049000000   \n",
      "..                                             ...                   ...   \n",
      "213                                     Montserrat                 26000   \n",
      "214  Saint Helena, Ascension, and Tristan da Cunha                 13000   \n",
      "215                                     Antarctica                 12000   \n",
      "216                                           Niue                  8000   \n",
      "217                       Northern Mariana Islands                     0   \n",
      "\n",
      "    Date of Information  \n",
      "0             2022 est.  \n",
      "1             2022 est.  \n",
      "2             2022 est.  \n",
      "3             2022 est.  \n",
      "4             2022 est.  \n",
      "..                  ...  \n",
      "213           2022 est.  \n",
      "214           2022 est.  \n",
      "215           2022 est.  \n",
      "216           2022 est.  \n",
      "217           2019 est.  \n",
      "\n",
      "[218 rows x 3 columns]\n"
     ]
    }
   ],
   "source": [
    "# Usamos iloc para seleccionar las columnas que queremos conservar\n",
    "carbonCleaned_iloc = carbon.iloc[:, [carbon.columns.get_loc(col) for col in keep_columns]]\n",
    "print(carbonCleaned_iloc)"
   ]
  },
  {
   "cell_type": "code",
   "execution_count": 113,
   "metadata": {},
   "outputs": [
    {
     "name": "stdout",
     "output_type": "stream",
     "text": [
      "                                           Country  metric tonnes of CO2  \\\n",
      "0                                            China           13506000000   \n",
      "1                                    United States            4941000000   \n",
      "2                                            India            2805000000   \n",
      "3                                           Russia            1840000000   \n",
      "4                                            Japan            1049000000   \n",
      "..                                             ...                   ...   \n",
      "213                                     Montserrat                 26000   \n",
      "214  Saint Helena, Ascension, and Tristan da Cunha                 13000   \n",
      "215                                     Antarctica                 12000   \n",
      "216                                           Niue                  8000   \n",
      "217                       Northern Mariana Islands                     0   \n",
      "\n",
      "    carbon_date  \n",
      "0     2022 est.  \n",
      "1     2022 est.  \n",
      "2     2022 est.  \n",
      "3     2022 est.  \n",
      "4     2022 est.  \n",
      "..          ...  \n",
      "213   2022 est.  \n",
      "214   2022 est.  \n",
      "215   2022 est.  \n",
      "216   2022 est.  \n",
      "217   2019 est.  \n",
      "\n",
      "[218 rows x 3 columns]\n"
     ]
    }
   ],
   "source": [
    "# Cambiar el nombre de la columna 'Date of Information' a 'carbon_date'\n",
    "change = {'Date of Information': \"carbon_date\"}\n",
    "carbonCleaned.rename(columns=change, inplace=True)\n",
    "\n",
    "# Mostrar el DataFrame modificado\n",
    "print(carbonCleaned)"
   ]
  },
  {
   "cell_type": "code",
   "execution_count": 117,
   "metadata": {},
   "outputs": [
    {
     "name": "stdout",
     "output_type": "stream",
     "text": [
      "                                           Country  metric tonnes of CO2  \\\n",
      "0                                            China           13506000000   \n",
      "1                                    United States            4941000000   \n",
      "2                                            India            2805000000   \n",
      "3                                           Russia            1840000000   \n",
      "4                                            Japan            1049000000   \n",
      "..                                             ...                   ...   \n",
      "213                                     Montserrat                 26000   \n",
      "214  Saint Helena, Ascension, and Tristan da Cunha                 13000   \n",
      "215                                     Antarctica                 12000   \n",
      "216                                           Niue                  8000   \n",
      "217                       Northern Mariana Islands                     0   \n",
      "\n",
      "    carbon_date  \n",
      "0     2022 est.  \n",
      "1     2022 est.  \n",
      "2     2022 est.  \n",
      "3     2022 est.  \n",
      "4     2022 est.  \n",
      "..          ...  \n",
      "213   2022 est.  \n",
      "214   2022 est.  \n",
      "215   2022 est.  \n",
      "216   2022 est.  \n",
      "217   2019 est.  \n",
      "\n",
      "[218 rows x 3 columns]\n"
     ]
    }
   ],
   "source": [
    "# Seleccionar las columnas de tipo objeto\n",
    "objectCols = carbonCleaned.select_dtypes(include=['object']).columns\n",
    "\n",
    "# Aplicar strip a las columnas de texto\n",
    "carbonCleaned.loc[:, objectCols] = carbonCleaned.loc[:, objectCols].apply(lambda col: col.str.strip())\n",
    "\n",
    "# Imprimes los valores hallados\n",
    "print(carbonCleaned)"
   ]
  },
  {
   "cell_type": "code",
   "execution_count": 123,
   "metadata": {},
   "outputs": [
    {
     "name": "stdout",
     "output_type": "stream",
     "text": [
      "<class 'pandas.core.series.Series'>\n",
      "RangeIndex: 218 entries, 0 to 217\n",
      "Series name: metric tonnes of CO2\n",
      "Non-Null Count  Dtype \n",
      "--------------  ----- \n",
      "218 non-null    object\n",
      "dtypes: object(1)\n",
      "memory usage: 1.8+ KB\n"
     ]
    }
   ],
   "source": [
    "# Detectar la presencia de símbolos no numéricos en 'metric tonnes of CO2'\n",
    "carbonCleaned['metric tonnes of CO2'].info()"
   ]
  },
  {
   "cell_type": "code",
   "execution_count": 129,
   "metadata": {},
   "outputs": [
    {
     "name": "stdout",
     "output_type": "stream",
     "text": [
      "                                           Country metric tonnes of CO2  \\\n",
      "0                                            China          13506000000   \n",
      "1                                    United States           4941000000   \n",
      "2                                            India           2805000000   \n",
      "3                                           Russia           1840000000   \n",
      "4                                            Japan           1049000000   \n",
      "..                                             ...                  ...   \n",
      "213                                     Montserrat                26000   \n",
      "214  Saint Helena, Ascension, and Tristan da Cunha                13000   \n",
      "215                                     Antarctica                12000   \n",
      "216                                           Niue                 8000   \n",
      "217                       Northern Mariana Islands                    0   \n",
      "\n",
      "    carbon_date  \n",
      "0           NaN  \n",
      "1           NaN  \n",
      "2           NaN  \n",
      "3           NaN  \n",
      "4           NaN  \n",
      "..          ...  \n",
      "213         NaN  \n",
      "214         NaN  \n",
      "215         NaN  \n",
      "216         NaN  \n",
      "217         NaN  \n",
      "\n",
      "[218 rows x 3 columns]\n"
     ]
    }
   ],
   "source": [
    "# Mantener solo el valor del año en la columna carbon_date\n",
    "carbonCleaned['carbon_date'] = carbonCleaned['carbon_date'].str.extract(r'(\\d+)')\n",
    "\n",
    "# Mostrar el DataFrame modificado\n",
    "print(carbonCleaned)"
   ]
  },
  {
   "cell_type": "code",
   "execution_count": 137,
   "metadata": {},
   "outputs": [],
   "source": [
    "import os\n",
    "\n",
    "# Creamos una carpeta llamada 'data'\n",
    "os.makedirs('data', exist_ok=True)\n",
    "\n",
    "# Guardar el DataFrame limpio en un archivo CSV dentro de la carpeta 'data'\n",
    "carbonCleaned.to_csv(os.path.join(\"data\", \"carbonCleaned.csv\"), index=False)"
   ]
  },
  {
   "cell_type": "code",
   "execution_count": 79,
   "metadata": {
    "id": "AXeewlqLj3iO"
   },
   "outputs": [],
   "source": [
    "# import os\n",
    "\n",
    "# carbonCleaned.to_csv(os.path.join(\"data\",\"carbonCleaned.csv\"),index=False)"
   ]
  },
  {
   "cell_type": "markdown",
   "metadata": {
    "id": "yd4p-5z7j3iO"
   },
   "source": [
    "- Exercise 2: Scrape the data on [Revenue from forest resources](https://www.cia.gov/the-world-factbook/field/revenue-from-forest-resources/country-comparison)."
   ]
  },
  {
   "cell_type": "markdown",
   "metadata": {
    "id": "tmiqVHh7j3iQ"
   },
   "source": [
    "Complete the same tasks requested in the previous exercise.\n",
    "When all tasks are done, save the cleaned file inside your **data** folder:\n"
   ]
  },
  {
   "cell_type": "code",
   "execution_count": 143,
   "metadata": {},
   "outputs": [
    {
     "name": "stdout",
     "output_type": "stream",
     "text": [
      "   Rank                   Country  % of GDP Date of Information\n",
      "0     1           Solomon Islands     20.27           2018 est.\n",
      "1     2                   Liberia     13.27           2018 est.\n",
      "2     3                   Burundi     10.31           2018 est.\n",
      "3     4             Guinea-Bissau      9.24           2018 est.\n",
      "4     5  Central African Republic      8.99           2018 est.\n"
     ]
    }
   ],
   "source": [
    "import pandas as pd\n",
    "\n",
    "ciaLink1 = 'https://www.cia.gov/the-world-factbook/field/revenue-from-forest-resources/country-comparison/'\n",
    "\n",
    "# Pedimos leer la tabla web en un DataFrame\n",
    "revenue_forest_resources = pd.read_html(ciaLink1, header=0, flavor='bs4')[0]\n",
    "\n",
    "# Pedimos mostrar las primeras filas del DataFrame\n",
    "print(revenue_forest_resources.head())\n"
   ]
  },
  {
   "cell_type": "code",
   "execution_count": 194,
   "metadata": {},
   "outputs": [
    {
     "data": {
      "text/html": [
       "<div>\n",
       "<style scoped>\n",
       "    .dataframe tbody tr th:only-of-type {\n",
       "        vertical-align: middle;\n",
       "    }\n",
       "\n",
       "    .dataframe tbody tr th {\n",
       "        vertical-align: top;\n",
       "    }\n",
       "\n",
       "    .dataframe thead th {\n",
       "        text-align: right;\n",
       "    }\n",
       "</style>\n",
       "<table border=\"1\" class=\"dataframe\">\n",
       "  <thead>\n",
       "    <tr style=\"text-align: right;\">\n",
       "      <th></th>\n",
       "      <th>Country</th>\n",
       "      <th>% of GDP</th>\n",
       "      <th>Date of Information</th>\n",
       "    </tr>\n",
       "  </thead>\n",
       "  <tbody>\n",
       "    <tr>\n",
       "      <th>0</th>\n",
       "      <td>Solomon Islands</td>\n",
       "      <td>20.27</td>\n",
       "      <td>2018 est.</td>\n",
       "    </tr>\n",
       "    <tr>\n",
       "      <th>1</th>\n",
       "      <td>Liberia</td>\n",
       "      <td>13.27</td>\n",
       "      <td>2018 est.</td>\n",
       "    </tr>\n",
       "    <tr>\n",
       "      <th>2</th>\n",
       "      <td>Burundi</td>\n",
       "      <td>10.31</td>\n",
       "      <td>2018 est.</td>\n",
       "    </tr>\n",
       "    <tr>\n",
       "      <th>3</th>\n",
       "      <td>Guinea-Bissau</td>\n",
       "      <td>9.24</td>\n",
       "      <td>2018 est.</td>\n",
       "    </tr>\n",
       "    <tr>\n",
       "      <th>4</th>\n",
       "      <td>Central African Republic</td>\n",
       "      <td>8.99</td>\n",
       "      <td>2018 est.</td>\n",
       "    </tr>\n",
       "    <tr>\n",
       "      <th>...</th>\n",
       "      <td>...</td>\n",
       "      <td>...</td>\n",
       "      <td>...</td>\n",
       "    </tr>\n",
       "    <tr>\n",
       "      <th>199</th>\n",
       "      <td>Guam</td>\n",
       "      <td>0.00</td>\n",
       "      <td>2018 est.</td>\n",
       "    </tr>\n",
       "    <tr>\n",
       "      <th>200</th>\n",
       "      <td>Faroe Islands</td>\n",
       "      <td>0.00</td>\n",
       "      <td>2017 est.</td>\n",
       "    </tr>\n",
       "    <tr>\n",
       "      <th>201</th>\n",
       "      <td>Aruba</td>\n",
       "      <td>0.00</td>\n",
       "      <td>2017 est.</td>\n",
       "    </tr>\n",
       "    <tr>\n",
       "      <th>202</th>\n",
       "      <td>Virgin Islands</td>\n",
       "      <td>0.00</td>\n",
       "      <td>2017 est.</td>\n",
       "    </tr>\n",
       "    <tr>\n",
       "      <th>203</th>\n",
       "      <td>Macau</td>\n",
       "      <td>0.00</td>\n",
       "      <td>2018 est.</td>\n",
       "    </tr>\n",
       "  </tbody>\n",
       "</table>\n",
       "<p>204 rows × 3 columns</p>\n",
       "</div>"
      ],
      "text/plain": [
       "                      Country  % of GDP Date of Information\n",
       "0             Solomon Islands     20.27           2018 est.\n",
       "1                     Liberia     13.27           2018 est.\n",
       "2                     Burundi     10.31           2018 est.\n",
       "3               Guinea-Bissau      9.24           2018 est.\n",
       "4    Central African Republic      8.99           2018 est.\n",
       "..                        ...       ...                 ...\n",
       "199                      Guam      0.00           2018 est.\n",
       "200             Faroe Islands      0.00           2017 est.\n",
       "201                     Aruba      0.00           2017 est.\n",
       "202            Virgin Islands      0.00           2017 est.\n",
       "203                     Macau      0.00           2018 est.\n",
       "\n",
       "[204 rows x 3 columns]"
      ]
     },
     "execution_count": 194,
     "metadata": {},
     "output_type": "execute_result"
    }
   ],
   "source": [
    "#Mantenemos solo las columnas necesarias\n",
    "keep = ['Country', '% of GDP', 'Date of Information']\n",
    "dontKeep = set(revenue_forest_resources.columns.to_list()) - set(keep)\n",
    "cleaned_revenue = revenue_forest_resources.drop(columns=dontKeep)\n",
    "cleaned_revenue"
   ]
  },
  {
   "cell_type": "code",
   "execution_count": 196,
   "metadata": {},
   "outputs": [
    {
     "data": {
      "text/html": [
       "<div>\n",
       "<style scoped>\n",
       "    .dataframe tbody tr th:only-of-type {\n",
       "        vertical-align: middle;\n",
       "    }\n",
       "\n",
       "    .dataframe tbody tr th {\n",
       "        vertical-align: top;\n",
       "    }\n",
       "\n",
       "    .dataframe thead th {\n",
       "        text-align: right;\n",
       "    }\n",
       "</style>\n",
       "<table border=\"1\" class=\"dataframe\">\n",
       "  <thead>\n",
       "    <tr style=\"text-align: right;\">\n",
       "      <th></th>\n",
       "      <th>Country</th>\n",
       "      <th>Porcentaje</th>\n",
       "      <th>Date of Information</th>\n",
       "    </tr>\n",
       "  </thead>\n",
       "  <tbody>\n",
       "    <tr>\n",
       "      <th>0</th>\n",
       "      <td>Solomon Islands</td>\n",
       "      <td>20.27</td>\n",
       "      <td>2018 est.</td>\n",
       "    </tr>\n",
       "    <tr>\n",
       "      <th>1</th>\n",
       "      <td>Liberia</td>\n",
       "      <td>13.27</td>\n",
       "      <td>2018 est.</td>\n",
       "    </tr>\n",
       "    <tr>\n",
       "      <th>2</th>\n",
       "      <td>Burundi</td>\n",
       "      <td>10.31</td>\n",
       "      <td>2018 est.</td>\n",
       "    </tr>\n",
       "    <tr>\n",
       "      <th>3</th>\n",
       "      <td>Guinea-Bissau</td>\n",
       "      <td>9.24</td>\n",
       "      <td>2018 est.</td>\n",
       "    </tr>\n",
       "    <tr>\n",
       "      <th>4</th>\n",
       "      <td>Central African Republic</td>\n",
       "      <td>8.99</td>\n",
       "      <td>2018 est.</td>\n",
       "    </tr>\n",
       "    <tr>\n",
       "      <th>...</th>\n",
       "      <td>...</td>\n",
       "      <td>...</td>\n",
       "      <td>...</td>\n",
       "    </tr>\n",
       "    <tr>\n",
       "      <th>199</th>\n",
       "      <td>Guam</td>\n",
       "      <td>0.00</td>\n",
       "      <td>2018 est.</td>\n",
       "    </tr>\n",
       "    <tr>\n",
       "      <th>200</th>\n",
       "      <td>Faroe Islands</td>\n",
       "      <td>0.00</td>\n",
       "      <td>2017 est.</td>\n",
       "    </tr>\n",
       "    <tr>\n",
       "      <th>201</th>\n",
       "      <td>Aruba</td>\n",
       "      <td>0.00</td>\n",
       "      <td>2017 est.</td>\n",
       "    </tr>\n",
       "    <tr>\n",
       "      <th>202</th>\n",
       "      <td>Virgin Islands</td>\n",
       "      <td>0.00</td>\n",
       "      <td>2017 est.</td>\n",
       "    </tr>\n",
       "    <tr>\n",
       "      <th>203</th>\n",
       "      <td>Macau</td>\n",
       "      <td>0.00</td>\n",
       "      <td>2018 est.</td>\n",
       "    </tr>\n",
       "  </tbody>\n",
       "</table>\n",
       "<p>204 rows × 3 columns</p>\n",
       "</div>"
      ],
      "text/plain": [
       "                      Country  Porcentaje Date of Information\n",
       "0             Solomon Islands       20.27           2018 est.\n",
       "1                     Liberia       13.27           2018 est.\n",
       "2                     Burundi       10.31           2018 est.\n",
       "3               Guinea-Bissau        9.24           2018 est.\n",
       "4    Central African Republic        8.99           2018 est.\n",
       "..                        ...         ...                 ...\n",
       "199                      Guam        0.00           2018 est.\n",
       "200             Faroe Islands        0.00           2017 est.\n",
       "201                     Aruba        0.00           2017 est.\n",
       "202            Virgin Islands        0.00           2017 est.\n",
       "203                     Macau        0.00           2018 est.\n",
       "\n",
       "[204 rows x 3 columns]"
      ]
     },
     "execution_count": 196,
     "metadata": {},
     "output_type": "execute_result"
    }
   ],
   "source": [
    "#Cambiamos el nombre de la columna 'Date of Information' a 'carbon_date'\n",
    "cleaned_revenue.rename(columns={'% of GDP': 'Porcentaje'}, inplace=True)\n",
    "cleaned_revenue"
   ]
  },
  {
   "cell_type": "code",
   "execution_count": 155,
   "metadata": {},
   "outputs": [
    {
     "data": {
      "text/html": [
       "<div>\n",
       "<style scoped>\n",
       "    .dataframe tbody tr th:only-of-type {\n",
       "        vertical-align: middle;\n",
       "    }\n",
       "\n",
       "    .dataframe tbody tr th {\n",
       "        vertical-align: top;\n",
       "    }\n",
       "\n",
       "    .dataframe thead th {\n",
       "        text-align: right;\n",
       "    }\n",
       "</style>\n",
       "<table border=\"1\" class=\"dataframe\">\n",
       "  <thead>\n",
       "    <tr style=\"text-align: right;\">\n",
       "      <th></th>\n",
       "      <th>Country</th>\n",
       "      <th>carbon_date</th>\n",
       "    </tr>\n",
       "  </thead>\n",
       "  <tbody>\n",
       "    <tr>\n",
       "      <th>0</th>\n",
       "      <td>Solomon Islands</td>\n",
       "      <td>2018 est.</td>\n",
       "    </tr>\n",
       "    <tr>\n",
       "      <th>1</th>\n",
       "      <td>Liberia</td>\n",
       "      <td>2018 est.</td>\n",
       "    </tr>\n",
       "    <tr>\n",
       "      <th>2</th>\n",
       "      <td>Burundi</td>\n",
       "      <td>2018 est.</td>\n",
       "    </tr>\n",
       "    <tr>\n",
       "      <th>3</th>\n",
       "      <td>Guinea-Bissau</td>\n",
       "      <td>2018 est.</td>\n",
       "    </tr>\n",
       "    <tr>\n",
       "      <th>4</th>\n",
       "      <td>Central African Republic</td>\n",
       "      <td>2018 est.</td>\n",
       "    </tr>\n",
       "    <tr>\n",
       "      <th>...</th>\n",
       "      <td>...</td>\n",
       "      <td>...</td>\n",
       "    </tr>\n",
       "    <tr>\n",
       "      <th>199</th>\n",
       "      <td>Guam</td>\n",
       "      <td>2018 est.</td>\n",
       "    </tr>\n",
       "    <tr>\n",
       "      <th>200</th>\n",
       "      <td>Faroe Islands</td>\n",
       "      <td>2017 est.</td>\n",
       "    </tr>\n",
       "    <tr>\n",
       "      <th>201</th>\n",
       "      <td>Aruba</td>\n",
       "      <td>2017 est.</td>\n",
       "    </tr>\n",
       "    <tr>\n",
       "      <th>202</th>\n",
       "      <td>Virgin Islands</td>\n",
       "      <td>2017 est.</td>\n",
       "    </tr>\n",
       "    <tr>\n",
       "      <th>203</th>\n",
       "      <td>Macau</td>\n",
       "      <td>2018 est.</td>\n",
       "    </tr>\n",
       "  </tbody>\n",
       "</table>\n",
       "<p>204 rows × 2 columns</p>\n",
       "</div>"
      ],
      "text/plain": [
       "                      Country carbon_date\n",
       "0             Solomon Islands   2018 est.\n",
       "1                     Liberia   2018 est.\n",
       "2                     Burundi   2018 est.\n",
       "3               Guinea-Bissau   2018 est.\n",
       "4    Central African Republic   2018 est.\n",
       "..                        ...         ...\n",
       "199                      Guam   2018 est.\n",
       "200             Faroe Islands   2017 est.\n",
       "201                     Aruba   2017 est.\n",
       "202            Virgin Islands   2017 est.\n",
       "203                     Macau   2018 est.\n",
       "\n",
       "[204 rows x 2 columns]"
      ]
     },
     "execution_count": 155,
     "metadata": {},
     "output_type": "execute_result"
    }
   ],
   "source": [
    "#Cambiamos el nombre de la columna 'Date of Information' a 'carbon_date'\n",
    "cleaned_revenue.rename(columns={'Date of Information': 'carbon_date'}, inplace=True)\n",
    "cleaned_revenue"
   ]
  },
  {
   "cell_type": "code",
   "execution_count": 200,
   "metadata": {},
   "outputs": [
    {
     "data": {
      "text/html": [
       "<div>\n",
       "<style scoped>\n",
       "    .dataframe tbody tr th:only-of-type {\n",
       "        vertical-align: middle;\n",
       "    }\n",
       "\n",
       "    .dataframe tbody tr th {\n",
       "        vertical-align: top;\n",
       "    }\n",
       "\n",
       "    .dataframe thead th {\n",
       "        text-align: right;\n",
       "    }\n",
       "</style>\n",
       "<table border=\"1\" class=\"dataframe\">\n",
       "  <thead>\n",
       "    <tr style=\"text-align: right;\">\n",
       "      <th></th>\n",
       "      <th>Country</th>\n",
       "      <th>Porcentaje</th>\n",
       "      <th>Date of Information</th>\n",
       "    </tr>\n",
       "  </thead>\n",
       "  <tbody>\n",
       "    <tr>\n",
       "      <th>0</th>\n",
       "      <td>Solomon Islands</td>\n",
       "      <td>20.27</td>\n",
       "      <td>2018 est.</td>\n",
       "    </tr>\n",
       "    <tr>\n",
       "      <th>1</th>\n",
       "      <td>Liberia</td>\n",
       "      <td>13.27</td>\n",
       "      <td>2018 est.</td>\n",
       "    </tr>\n",
       "    <tr>\n",
       "      <th>2</th>\n",
       "      <td>Burundi</td>\n",
       "      <td>10.31</td>\n",
       "      <td>2018 est.</td>\n",
       "    </tr>\n",
       "    <tr>\n",
       "      <th>3</th>\n",
       "      <td>Guinea-Bissau</td>\n",
       "      <td>9.24</td>\n",
       "      <td>2018 est.</td>\n",
       "    </tr>\n",
       "    <tr>\n",
       "      <th>4</th>\n",
       "      <td>Central African Republic</td>\n",
       "      <td>8.99</td>\n",
       "      <td>2018 est.</td>\n",
       "    </tr>\n",
       "    <tr>\n",
       "      <th>...</th>\n",
       "      <td>...</td>\n",
       "      <td>...</td>\n",
       "      <td>...</td>\n",
       "    </tr>\n",
       "    <tr>\n",
       "      <th>199</th>\n",
       "      <td>Guam</td>\n",
       "      <td>0.00</td>\n",
       "      <td>2018 est.</td>\n",
       "    </tr>\n",
       "    <tr>\n",
       "      <th>200</th>\n",
       "      <td>Faroe Islands</td>\n",
       "      <td>0.00</td>\n",
       "      <td>2017 est.</td>\n",
       "    </tr>\n",
       "    <tr>\n",
       "      <th>201</th>\n",
       "      <td>Aruba</td>\n",
       "      <td>0.00</td>\n",
       "      <td>2017 est.</td>\n",
       "    </tr>\n",
       "    <tr>\n",
       "      <th>202</th>\n",
       "      <td>Virgin Islands</td>\n",
       "      <td>0.00</td>\n",
       "      <td>2017 est.</td>\n",
       "    </tr>\n",
       "    <tr>\n",
       "      <th>203</th>\n",
       "      <td>Macau</td>\n",
       "      <td>0.00</td>\n",
       "      <td>2018 est.</td>\n",
       "    </tr>\n",
       "  </tbody>\n",
       "</table>\n",
       "<p>204 rows × 3 columns</p>\n",
       "</div>"
      ],
      "text/plain": [
       "                      Country  Porcentaje Date of Information\n",
       "0             Solomon Islands       20.27           2018 est.\n",
       "1                     Liberia       13.27           2018 est.\n",
       "2                     Burundi       10.31           2018 est.\n",
       "3               Guinea-Bissau        9.24           2018 est.\n",
       "4    Central African Republic        8.99           2018 est.\n",
       "..                        ...         ...                 ...\n",
       "199                      Guam        0.00           2018 est.\n",
       "200             Faroe Islands        0.00           2017 est.\n",
       "201                     Aruba        0.00           2017 est.\n",
       "202            Virgin Islands        0.00           2017 est.\n",
       "203                     Macau        0.00           2018 est.\n",
       "\n",
       "[204 rows x 3 columns]"
      ]
     },
     "execution_count": 200,
     "metadata": {},
     "output_type": "execute_result"
    }
   ],
   "source": [
    "#Nos aseguramos de que no haya espacios en blanco en las columnas de texto\n",
    "objectCols = cleaned_revenue.select_dtypes(include=['object']).columns\n",
    "cleaned_revenue.loc[:, objectCols] = cleaned_revenue.loc[:, objectCols].apply(lambda col: col.str.strip())\n",
    "cleaned_revenue"
   ]
  },
  {
   "cell_type": "code",
   "execution_count": 204,
   "metadata": {},
   "outputs": [
    {
     "data": {
      "text/html": [
       "<div>\n",
       "<style scoped>\n",
       "    .dataframe tbody tr th:only-of-type {\n",
       "        vertical-align: middle;\n",
       "    }\n",
       "\n",
       "    .dataframe tbody tr th {\n",
       "        vertical-align: top;\n",
       "    }\n",
       "\n",
       "    .dataframe thead th {\n",
       "        text-align: right;\n",
       "    }\n",
       "</style>\n",
       "<table border=\"1\" class=\"dataframe\">\n",
       "  <thead>\n",
       "    <tr style=\"text-align: right;\">\n",
       "      <th></th>\n",
       "      <th>Country</th>\n",
       "      <th>Porcentaje</th>\n",
       "      <th>Date of Information</th>\n",
       "    </tr>\n",
       "  </thead>\n",
       "  <tbody>\n",
       "    <tr>\n",
       "      <th>0</th>\n",
       "      <td>Solomon Islands</td>\n",
       "      <td>20.27</td>\n",
       "      <td>2018 est.</td>\n",
       "    </tr>\n",
       "    <tr>\n",
       "      <th>1</th>\n",
       "      <td>Liberia</td>\n",
       "      <td>13.27</td>\n",
       "      <td>2018 est.</td>\n",
       "    </tr>\n",
       "    <tr>\n",
       "      <th>2</th>\n",
       "      <td>Burundi</td>\n",
       "      <td>10.31</td>\n",
       "      <td>2018 est.</td>\n",
       "    </tr>\n",
       "    <tr>\n",
       "      <th>3</th>\n",
       "      <td>Guinea-Bissau</td>\n",
       "      <td>9.24</td>\n",
       "      <td>2018 est.</td>\n",
       "    </tr>\n",
       "    <tr>\n",
       "      <th>4</th>\n",
       "      <td>Central African Republic</td>\n",
       "      <td>8.99</td>\n",
       "      <td>2018 est.</td>\n",
       "    </tr>\n",
       "    <tr>\n",
       "      <th>...</th>\n",
       "      <td>...</td>\n",
       "      <td>...</td>\n",
       "      <td>...</td>\n",
       "    </tr>\n",
       "    <tr>\n",
       "      <th>199</th>\n",
       "      <td>Guam</td>\n",
       "      <td>0.0</td>\n",
       "      <td>2018 est.</td>\n",
       "    </tr>\n",
       "    <tr>\n",
       "      <th>200</th>\n",
       "      <td>Faroe Islands</td>\n",
       "      <td>0.0</td>\n",
       "      <td>2017 est.</td>\n",
       "    </tr>\n",
       "    <tr>\n",
       "      <th>201</th>\n",
       "      <td>Aruba</td>\n",
       "      <td>0.0</td>\n",
       "      <td>2017 est.</td>\n",
       "    </tr>\n",
       "    <tr>\n",
       "      <th>202</th>\n",
       "      <td>Virgin Islands</td>\n",
       "      <td>0.0</td>\n",
       "      <td>2017 est.</td>\n",
       "    </tr>\n",
       "    <tr>\n",
       "      <th>203</th>\n",
       "      <td>Macau</td>\n",
       "      <td>0.0</td>\n",
       "      <td>2018 est.</td>\n",
       "    </tr>\n",
       "  </tbody>\n",
       "</table>\n",
       "<p>204 rows × 3 columns</p>\n",
       "</div>"
      ],
      "text/plain": [
       "                      Country Porcentaje Date of Information\n",
       "0             Solomon Islands      20.27           2018 est.\n",
       "1                     Liberia      13.27           2018 est.\n",
       "2                     Burundi      10.31           2018 est.\n",
       "3               Guinea-Bissau       9.24           2018 est.\n",
       "4    Central African Republic       8.99           2018 est.\n",
       "..                        ...        ...                 ...\n",
       "199                      Guam        0.0           2018 est.\n",
       "200             Faroe Islands        0.0           2017 est.\n",
       "201                     Aruba        0.0           2017 est.\n",
       "202            Virgin Islands        0.0           2017 est.\n",
       "203                     Macau        0.0           2018 est.\n",
       "\n",
       "[204 rows x 3 columns]"
      ]
     },
     "execution_count": 204,
     "metadata": {},
     "output_type": "execute_result"
    }
   ],
   "source": [
    "#Detectamos la presencia de símbolos no numéricos en 'Revenue from Forest Resources'\n",
    "# Convertimos la columna a tipo string para aplicar .str.contains\n",
    "cleaned_revenue['Porcentaje'] = cleaned_revenue['Porcentaje'].astype(str)\n",
    "cleaned_revenue\n"
   ]
  },
  {
   "cell_type": "code",
   "execution_count": 274,
   "metadata": {},
   "outputs": [
    {
     "name": "stdout",
     "output_type": "stream",
     "text": [
      "<class 'pandas.core.series.Series'>\n",
      "RangeIndex: 204 entries, 0 to 203\n",
      "Series name: Porcentaje\n",
      "Non-Null Count  Dtype \n",
      "--------------  ----- \n",
      "204 non-null    object\n",
      "dtypes: object(1)\n",
      "memory usage: 1.7+ KB\n"
     ]
    }
   ],
   "source": [
    "# Detectar la presencia de símbolos no numéricos en 'metric tonnes of CO2'\n",
    "cleaned_revenue['Porcentaje'].info()"
   ]
  },
  {
   "cell_type": "code",
   "execution_count": 278,
   "metadata": {},
   "outputs": [
    {
     "name": "stdout",
     "output_type": "stream",
     "text": [
      "                      Country Porcentaje Date of Information\n",
      "0             Solomon Islands         20                2018\n",
      "1                     Liberia         13                2018\n",
      "2                     Burundi         10                2018\n",
      "3               Guinea-Bissau          9                2018\n",
      "4    Central African Republic          8                2018\n",
      "..                        ...        ...                 ...\n",
      "199                      Guam          0                2018\n",
      "200             Faroe Islands          0                2017\n",
      "201                     Aruba          0                2017\n",
      "202            Virgin Islands          0                2017\n",
      "203                     Macau          0                2018\n",
      "\n",
      "[204 rows x 3 columns]\n"
     ]
    }
   ],
   "source": [
    "# Mantener solo el valor del año en la columna carbon_date\n",
    "cleaned_revenue['Date of Information'] = cleaned_revenue['Date of Information'].str.extract(r'(\\d+)')\n",
    "\n",
    "# Mostrar el DataFrame modificado\n",
    "print(cleaned_revenue)"
   ]
  },
  {
   "cell_type": "code",
   "execution_count": 280,
   "metadata": {},
   "outputs": [],
   "source": [
    "import os\n",
    "\n",
    "# Creamos una carpeta llamada 'data'\n",
    "os.makedirs('data', exist_ok=True)\n",
    "\n",
    "# Guardar el DataFrame limpio en un archivo CSV dentro de la carpeta 'data'\n",
    "carbonCleaned.to_csv(os.path.join(\"data\", \"carbonCleaned.csv\"), index=False)"
   ]
  },
  {
   "cell_type": "code",
   "execution_count": 242,
   "metadata": {
    "id": "y66BGcvjj3iQ"
   },
   "outputs": [],
   "source": [
    "# import os\n",
    "\n",
    "# forestCleaned.to_csv(os.path.join(\"data\",\"forestCleaned.csv\"),index=False)"
   ]
  }
 ],
 "metadata": {
  "anaconda-cloud": {
   "attach-environment": true,
   "summary": "test"
  },
  "colab": {
   "provenance": []
  },
  "hide_input": false,
  "kernelspec": {
   "display_name": "Python 3 (ipykernel)",
   "language": "python",
   "name": "python3"
  },
  "language_info": {
   "codemirror_mode": {
    "name": "ipython",
    "version": 3
   },
   "file_extension": ".py",
   "mimetype": "text/x-python",
   "name": "python",
   "nbconvert_exporter": "python",
   "pygments_lexer": "ipython3",
   "version": "3.12.4"
  },
  "toc-autonumbering": false
 },
 "nbformat": 4,
 "nbformat_minor": 4
}
